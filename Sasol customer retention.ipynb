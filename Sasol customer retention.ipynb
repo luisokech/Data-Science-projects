{
 "cells": [
  {
   "cell_type": "markdown",
   "id": "dbe0baaa",
   "metadata": {},
   "source": [
    "## Build a model to predict whether a customer will become inactive?"
   ]
  },
  {
   "cell_type": "code",
   "execution_count": 1,
   "id": "deace60e",
   "metadata": {},
   "outputs": [],
   "source": [
    "# dataframe and plotting\n",
    "import pandas as pd\n",
    "import numpy as np\n",
    "import seaborn as sns\n",
    "import matplotlib.pyplot as plt\n",
    "\n",
    "# machine learning\n",
    "import missingno as msno\n",
    "from sklearn.model_selection import train_test_split, GridSearchCV\n",
    "from sklearn.metrics import accuracy_score\n",
    "from sklearn.preprocessing import OneHotEncoder\n",
    "from sklearn.metrics import ConfusionMatrixDisplay\n",
    "from sklearn.preprocessing import MinMaxScaler\n",
    "from sklearn.preprocessing import LabelEncoder \n",
    "from sklearn.metrics import (\n",
    "    classification_report,\n",
    "    confusion_matrix,\n",
    ")"
   ]
  },
  {
   "cell_type": "code",
   "execution_count": 2,
   "id": "9379a026",
   "metadata": {},
   "outputs": [],
   "source": [
    "# Load files into a pandas dataframe\n",
    "df = pd.read_csv('Train.csv')\n",
    "test = pd.read_csv('Test.csv')\n",
    "ss = pd.read_csv('SampleSubmission.csv')\n",
    "variables = pd.read_csv('VariableDescription.csv')"
   ]
  },
  {
   "cell_type": "code",
   "execution_count": 3,
   "id": "c0b5ff7f",
   "metadata": {},
   "outputs": [
    {
     "data": {
      "text/html": [
       "<div>\n",
       "<style scoped>\n",
       "    .dataframe tbody tr th:only-of-type {\n",
       "        vertical-align: middle;\n",
       "    }\n",
       "\n",
       "    .dataframe tbody tr th {\n",
       "        vertical-align: top;\n",
       "    }\n",
       "\n",
       "    .dataframe thead th {\n",
       "        text-align: right;\n",
       "    }\n",
       "</style>\n",
       "<table border=\"1\" class=\"dataframe\">\n",
       "  <thead>\n",
       "    <tr style=\"text-align: right;\">\n",
       "      <th></th>\n",
       "      <th>ID</th>\n",
       "      <th>region</th>\n",
       "      <th>tenure</th>\n",
       "      <th>Amount</th>\n",
       "      <th>refill_frequency</th>\n",
       "      <th>revenue</th>\n",
       "      <th>arpu_segment</th>\n",
       "      <th>frequency</th>\n",
       "      <th>data_volume</th>\n",
       "      <th>on_net</th>\n",
       "      <th>Procuct_1</th>\n",
       "      <th>Procuct_2</th>\n",
       "      <th>zone1</th>\n",
       "      <th>zone2</th>\n",
       "      <th>mrg</th>\n",
       "      <th>regularity</th>\n",
       "      <th>top_pack</th>\n",
       "      <th>freq_top_pack</th>\n",
       "      <th>Target</th>\n",
       "    </tr>\n",
       "  </thead>\n",
       "  <tbody>\n",
       "    <tr>\n",
       "      <th>0</th>\n",
       "      <td>ID_YEB05X4KUGPQ</td>\n",
       "      <td>NaN</td>\n",
       "      <td>K &gt; 24 month</td>\n",
       "      <td>NaN</td>\n",
       "      <td>NaN</td>\n",
       "      <td>NaN</td>\n",
       "      <td>NaN</td>\n",
       "      <td>NaN</td>\n",
       "      <td>NaN</td>\n",
       "      <td>NaN</td>\n",
       "      <td>NaN</td>\n",
       "      <td>NaN</td>\n",
       "      <td>NaN</td>\n",
       "      <td>NaN</td>\n",
       "      <td>NO</td>\n",
       "      <td>3</td>\n",
       "      <td>NaN</td>\n",
       "      <td>NaN</td>\n",
       "      <td>0</td>\n",
       "    </tr>\n",
       "    <tr>\n",
       "      <th>1</th>\n",
       "      <td>ID_Z9IQ9QH52KVN</td>\n",
       "      <td>Nebula</td>\n",
       "      <td>K &gt; 24 month</td>\n",
       "      <td>4764.96</td>\n",
       "      <td>41.0</td>\n",
       "      <td>4756.84</td>\n",
       "      <td>1585.47</td>\n",
       "      <td>41.0</td>\n",
       "      <td>2.0</td>\n",
       "      <td>626.0</td>\n",
       "      <td>24.0</td>\n",
       "      <td>NaN</td>\n",
       "      <td>NaN</td>\n",
       "      <td>NaN</td>\n",
       "      <td>NO</td>\n",
       "      <td>62</td>\n",
       "      <td>On net 200F=Unlimited _call24H</td>\n",
       "      <td>31.0</td>\n",
       "      <td>0</td>\n",
       "    </tr>\n",
       "    <tr>\n",
       "      <th>2</th>\n",
       "      <td>ID_YZSU7B7M35QS</td>\n",
       "      <td>Celestial</td>\n",
       "      <td>K &gt; 24 month</td>\n",
       "      <td>5769.23</td>\n",
       "      <td>22.0</td>\n",
       "      <td>5769.23</td>\n",
       "      <td>1923.08</td>\n",
       "      <td>22.0</td>\n",
       "      <td>28121.0</td>\n",
       "      <td>0.0</td>\n",
       "      <td>NaN</td>\n",
       "      <td>1.0</td>\n",
       "      <td>NaN</td>\n",
       "      <td>NaN</td>\n",
       "      <td>NO</td>\n",
       "      <td>61</td>\n",
       "      <td>NaN</td>\n",
       "      <td>NaN</td>\n",
       "      <td>0</td>\n",
       "    </tr>\n",
       "    <tr>\n",
       "      <th>3</th>\n",
       "      <td>ID_QS4F5LEX29KM</td>\n",
       "      <td>NaN</td>\n",
       "      <td>K &gt; 24 month</td>\n",
       "      <td>NaN</td>\n",
       "      <td>NaN</td>\n",
       "      <td>NaN</td>\n",
       "      <td>NaN</td>\n",
       "      <td>NaN</td>\n",
       "      <td>NaN</td>\n",
       "      <td>NaN</td>\n",
       "      <td>NaN</td>\n",
       "      <td>NaN</td>\n",
       "      <td>NaN</td>\n",
       "      <td>NaN</td>\n",
       "      <td>NO</td>\n",
       "      <td>6</td>\n",
       "      <td>NaN</td>\n",
       "      <td>NaN</td>\n",
       "      <td>0</td>\n",
       "    </tr>\n",
       "    <tr>\n",
       "      <th>4</th>\n",
       "      <td>ID_8IYIC9PFU8U1</td>\n",
       "      <td>Eclipsara</td>\n",
       "      <td>K &gt; 24 month</td>\n",
       "      <td>5341.88</td>\n",
       "      <td>58.0</td>\n",
       "      <td>5636.75</td>\n",
       "      <td>1879.06</td>\n",
       "      <td>60.0</td>\n",
       "      <td>1131.0</td>\n",
       "      <td>546.0</td>\n",
       "      <td>376.0</td>\n",
       "      <td>0.0</td>\n",
       "      <td>NaN</td>\n",
       "      <td>NaN</td>\n",
       "      <td>NO</td>\n",
       "      <td>62</td>\n",
       "      <td>Mixt 250F=Unlimited_call24H</td>\n",
       "      <td>31.0</td>\n",
       "      <td>0</td>\n",
       "    </tr>\n",
       "  </tbody>\n",
       "</table>\n",
       "</div>"
      ],
      "text/plain": [
       "                ID     region        tenure   Amount  refill_frequency  \\\n",
       "0  ID_YEB05X4KUGPQ        NaN  K > 24 month      NaN               NaN   \n",
       "1  ID_Z9IQ9QH52KVN     Nebula  K > 24 month  4764.96              41.0   \n",
       "2  ID_YZSU7B7M35QS  Celestial  K > 24 month  5769.23              22.0   \n",
       "3  ID_QS4F5LEX29KM        NaN  K > 24 month      NaN               NaN   \n",
       "4  ID_8IYIC9PFU8U1  Eclipsara  K > 24 month  5341.88              58.0   \n",
       "\n",
       "   revenue  arpu_segment  frequency  data_volume  on_net  Procuct_1  \\\n",
       "0      NaN           NaN        NaN          NaN     NaN        NaN   \n",
       "1  4756.84       1585.47       41.0          2.0   626.0       24.0   \n",
       "2  5769.23       1923.08       22.0      28121.0     0.0        NaN   \n",
       "3      NaN           NaN        NaN          NaN     NaN        NaN   \n",
       "4  5636.75       1879.06       60.0       1131.0   546.0      376.0   \n",
       "\n",
       "   Procuct_2  zone1  zone2 mrg  regularity                        top_pack  \\\n",
       "0        NaN    NaN    NaN  NO           3                             NaN   \n",
       "1        NaN    NaN    NaN  NO          62  On net 200F=Unlimited _call24H   \n",
       "2        1.0    NaN    NaN  NO          61                             NaN   \n",
       "3        NaN    NaN    NaN  NO           6                             NaN   \n",
       "4        0.0    NaN    NaN  NO          62     Mixt 250F=Unlimited_call24H   \n",
       "\n",
       "   freq_top_pack  Target  \n",
       "0            NaN       0  \n",
       "1           31.0       0  \n",
       "2            NaN       0  \n",
       "3            NaN       0  \n",
       "4           31.0       0  "
      ]
     },
     "execution_count": 3,
     "metadata": {},
     "output_type": "execute_result"
    }
   ],
   "source": [
    "df.head()"
   ]
  },
  {
   "cell_type": "code",
   "execution_count": 4,
   "id": "b9e03611",
   "metadata": {},
   "outputs": [
    {
     "name": "stdout",
     "output_type": "stream",
     "text": [
      "<class 'pandas.core.frame.DataFrame'>\n",
      "RangeIndex: 1507834 entries, 0 to 1507833\n",
      "Data columns (total 19 columns):\n",
      " #   Column            Non-Null Count    Dtype  \n",
      "---  ------            --------------    -----  \n",
      " 0   ID                1507834 non-null  object \n",
      " 1   region            913743 non-null   object \n",
      " 2   tenure            1507834 non-null  object \n",
      " 3   Amount            978320 non-null   float64\n",
      " 4   refill_frequency  978320 non-null   float64\n",
      " 5   revenue           999713 non-null   float64\n",
      " 6   arpu_segment      999713 non-null   float64\n",
      " 7   frequency         999713 non-null   float64\n",
      " 8   data_volume       766028 non-null   float64\n",
      " 9   on_net            957192 non-null   float64\n",
      " 10  Procuct_1         881271 non-null   float64\n",
      " 11  Procuct_2         604784 non-null   float64\n",
      " 12  zone1             118986 non-null   float64\n",
      " 13  zone2             95505 non-null    float64\n",
      " 14  mrg               1507834 non-null  object \n",
      " 15  regularity        1507834 non-null  int64  \n",
      " 16  top_pack          876011 non-null   object \n",
      " 17  freq_top_pack     876011 non-null   float64\n",
      " 18  Target            1507834 non-null  int64  \n",
      "dtypes: float64(12), int64(2), object(5)\n",
      "memory usage: 218.6+ MB\n",
      "None\n"
     ]
    }
   ],
   "source": [
    " print(df.info())"
   ]
  },
  {
   "cell_type": "code",
   "execution_count": 5,
   "id": "b8212eb0",
   "metadata": {},
   "outputs": [
    {
     "data": {
      "text/plain": [
       "zone2               93.666080\n",
       "zone1               92.108813\n",
       "Procuct_2           59.890545\n",
       "data_volume         49.196795\n",
       "freq_top_pack       41.902690\n",
       "top_pack            41.902690\n",
       "Procuct_1           41.553845\n",
       "region              39.400292\n",
       "on_net              36.518741\n",
       "Amount              35.117526\n",
       "refill_frequency    35.117526\n",
       "revenue             33.698736\n",
       "arpu_segment        33.698736\n",
       "frequency           33.698736\n",
       "regularity           0.000000\n",
       "ID                   0.000000\n",
       "mrg                  0.000000\n",
       "tenure               0.000000\n",
       "Target               0.000000\n",
       "dtype: float64"
      ]
     },
     "execution_count": 5,
     "metadata": {},
     "output_type": "execute_result"
    }
   ],
   "source": [
    "(df.isnull().sum()  / len(df) * 100).sort_values(ascending=False)"
   ]
  },
  {
   "cell_type": "code",
   "execution_count": 6,
   "id": "bd69c446",
   "metadata": {},
   "outputs": [
    {
     "data": {
      "text/plain": [
       "<AxesSubplot:>"
      ]
     },
     "execution_count": 6,
     "metadata": {},
     "output_type": "execute_result"
    },
    {
     "data": {
      "image/png": "[encoded data removed]",
      "text/plain": [
       "<Figure size 1800x720 with 3 Axes>"
      ]
     },
     "metadata": {
      "needs_background": "light"
     },
     "output_type": "display_data"
    }
   ],
   "source": [
    "msno.bar(df, sort=\"ascending\")"
   ]
  },
  {
   "cell_type": "code",
   "execution_count": 7,
   "id": "a801d510",
   "metadata": {},
   "outputs": [
    {
     "data": {
      "text/plain": [
       "<seaborn.axisgrid.FacetGrid at 0x22903e49370>"
      ]
     },
     "execution_count": 7,
     "metadata": {},
     "output_type": "execute_result"
    },
    {
     "data": {
      "image/png": "[encoded data removed]",
      "text/plain": [
       "<Figure size 360x360 with 1 Axes>"
      ]
     },
     "metadata": {
      "needs_background": "light"
     },
     "output_type": "display_data"
    }
   ],
   "source": [
    "# Explore Target distribution \n",
    "sns.catplot(x=\"Target\", kind=\"count\", data=df)"
   ]
  },
  {
   "cell_type": "code",
   "execution_count": 8,
   "id": "77294bfb",
   "metadata": {},
   "outputs": [],
   "source": [
    "#Separate training features from target\n",
    "X_train = df.drop(['Target'], axis=1)\n",
    "y_train = df['Target']"
   ]
  },
  {
   "cell_type": "code",
   "execution_count": 9,
   "id": "2ba9c1df",
   "metadata": {},
   "outputs": [],
   "source": [
    "def preprocessing_data(data):\n",
    "    # Create a DataFrame to preserve column names\n",
    "    df = data.copy()\n",
    "\n",
    "    # drop unwanted columns\n",
    "    data = data.drop(['ID', 'top_pack', 'mrg'], axis=1)\n",
    "\n",
    "    # One Hot Encoding conversion\n",
    "    data = pd.get_dummies(data, prefix_sep=\"_\", columns=['region'])\n",
    "\n",
    "    # Label Encoder conversion\n",
    "    le = LabelEncoder()\n",
    "    data[\"tenure\"] = le.fit_transform(data[\"tenure\"])\n",
    "\n",
    "    # Drop columns with more than 49% missing values.\n",
    "    high_missing_cols = df.columns[df.isnull().mean() > 0.49]\n",
    "    data = data.drop(high_missing_cols, axis=1)\n",
    "    \n",
    "    # Impute missing values in object columns with mode\n",
    "    object_cols = data.select_dtypes(include=['object']).columns\n",
    "    data[object_cols] = data[object_cols].apply(lambda x: x.fillna(x.mode()[0]))\n",
    "\n",
    "    # Impute missing values with the mean of each column\n",
    "    data = data.apply(lambda col: col.fillna(col.mean()), axis=0)\n",
    "\n",
    "    # Scale our data into the range of 0 and 1\n",
    "    scaler = MinMaxScaler(feature_range=(0, 1))\n",
    "    data[data.columns] = scaler.fit_transform(data[data.columns])\n",
    "\n",
    "    # Convert the processed NumPy array back to a DataFrame\n",
    "    processed_data = pd.DataFrame(data, columns=data.columns)\n",
    "\n",
    "    return processed_data"
   ]
  },
  {
   "cell_type": "code",
   "execution_count": 10,
   "id": "e25f76c0",
   "metadata": {},
   "outputs": [],
   "source": [
    "cleaned_df = preprocessing_data(df)"
   ]
  },
  {
   "cell_type": "code",
   "execution_count": 11,
   "id": "6951840d",
   "metadata": {
    "scrolled": true
   },
   "outputs": [],
   "source": [
    "processed_test = preprocessing_data(test)"
   ]
  },
  {
   "cell_type": "markdown",
   "id": "70e35860",
   "metadata": {},
   "source": [
    "## xgboost"
   ]
  },
  {
   "cell_type": "code",
   "execution_count": 12,
   "id": "ea906c4b",
   "metadata": {},
   "outputs": [
    {
     "name": "stdout",
     "output_type": "stream",
     "text": [
      "accuracy: 0.878578\n"
     ]
    }
   ],
   "source": [
    "import xgboost as xgb\n",
    "from sklearn.model_selection import train_test_split\n",
    "\n",
    "X = cleaned_df.drop(['Target'], axis=1)\n",
    "y = cleaned_df['Target']\n",
    "\n",
    "# Create arrays for the features and the target: X, y\n",
    "X_train, X_test, y_train, y_test= train_test_split(X, y, test_size=0.2, random_state=123)\n",
    "\n",
    "# Instantiate the XGBClassifier: xg_cl\n",
    "xg_cl = xgb.XGBClassifier(objective='binary:logistic',\n",
    "                          learning_rate=0.1,\n",
    "                          max_depth=3,\n",
    "                          n_estimators=100,\n",
    "                          random_state=123\n",
    "                         )\n",
    "xg_cl.fit(X_train, y_train)\n",
    "preds = xg_cl.predict(X_test)\n",
    "accuracy = accuracy_score(y_test, preds)\n",
    "print(\"accuracy: %f\" % (accuracy))"
   ]
  },
  {
   "cell_type": "code",
   "execution_count": 12,
   "id": "49baccfc",
   "metadata": {},
   "outputs": [
    {
     "name": "stdout",
     "output_type": "stream",
     "text": [
      "[20:10:58] WARNING: C:\\buildkite-agent\\builds\\buildkite-windows-cpu-autoscaling-group-i-07593ffd91cd9da33-1\\xgboost\\xgboost-ci-windows\\src\\learner.cc:767: \n",
      "Parameters: { \"class_weight\" } are not used.\n",
      "\n",
      "Best Parameters: {'class_weight': {0: 1, 1: 2}, 'learning_rate': 0.1, 'max_depth': 3, 'n_estimators': 100}\n",
      "Accuracy: 0.878578\n"
     ]
    }
   ],
   "source": [
    "import xgboost as xgb\n",
    "from sklearn.metrics import accuracy_score\n",
    "\n",
    "X = cleaned_df.drop(['Target'], axis=1)\n",
    "y = cleaned_df['Target']\n",
    "\n",
    "# Split the data into training and testing sets\n",
    "X_train, X_test, y_train, y_test = train_test_split(X, y, test_size=0.2, random_state=123)\n",
    "\n",
    "# Define the parameter grid for GridSearchCV\n",
    "param_grid = {\n",
    "    'learning_rate': [0.1],\n",
    "    'max_depth': [3],\n",
    "    'n_estimators': [100],\n",
    "    'class_weight': [{0: 1, 1: 2}, 'balanced'] \n",
    "}\n",
    "\n",
    "# Instantiate the XGBClassifier: xg_cl\n",
    "xg_cl = xgb.XGBClassifier(objective='binary:logistic', random_state=123)\n",
    "\n",
    "# Instantiate GridSearchCV\n",
    "grid_search = GridSearchCV(xg_cl, param_grid, cv=5, scoring='accuracy', n_jobs=-1)\n",
    "\n",
    "# Fit the model using GridSearchCV\n",
    "grid_search.fit(X_train, y_train)\n",
    "\n",
    "# Get the best parameters\n",
    "best_params = grid_search.best_params_\n",
    "print(\"Best Parameters:\", best_params)\n",
    "\n",
    "# Use the best model to make predictions\n",
    "best_xg_cl = grid_search.best_estimator_\n",
    "preds = best_xg_cl.predict(X_test)\n",
    "\n",
    "# Evaluate the accuracy\n",
    "accuracy = accuracy_score(y_test, preds)\n",
    "print(\"Accuracy: %f\" % accuracy)"
   ]
  },
  {
   "cell_type": "markdown",
   "id": "91432771",
   "metadata": {},
   "source": [
    "### params for a large dataset"
   ]
  },
  {
   "cell_type": "code",
   "execution_count": null,
   "id": "7b339204",
   "metadata": {},
   "outputs": [],
   "source": [
    "import xgboost as xgb\n",
    "from sklearn.metrics import accuracy_score\n",
    "\n",
    "X = cleaned_df.drop(['Target'], axis=1)\n",
    "y = cleaned_df['Target']\n",
    "\n",
    "# Split the data into training and testing sets\n",
    "X_train, X_test, y_train, y_test = train_test_split(X, y, test_size=0.2, random_state=123)\n",
    "\n",
    "# Define the parameter grid for GridSearchCV\n",
    "param_grid = {\n",
    "    'learning_rate': [0.01, 0.1],\n",
    "    'max_depth': [5, 7],\n",
    "    'n_estimators': [100, 200, 300],\n",
    "    'subsample': [0.8, 1.0],\n",
    "    'class_weight': [{0: 1, 1: 2}, 'balanced'] \n",
    "}\n",
    "\n",
    "\n",
    "# Instantiate the XGBClassifier: xg_cl\n",
    "xg_cl = xgb.XGBClassifier(objective='binary:logistic', random_state=123)\n",
    "\n",
    "# Instantiate GridSearchCV\n",
    "grid_search = GridSearchCV(xg_cl, param_grid, cv=5, scoring='accuracy', n_jobs=-1)\n",
    "\n",
    "# Fit the model using GridSearchCV\n",
    "grid_search.fit(X_train, y_train)\n",
    "\n",
    "# Get the best parametersaa\n",
    "best_params = grid_search.best_params_\n",
    "print(\"Best Parameters:\", best_params)\n",
    "\n",
    "# Use the best model to make predictions\n",
    "best_xg_cl = grid_search.best_estimator_\n",
    "preds = best_xg_cl.predict(X_test)\n",
    "\n",
    "# Evaluate the accuracy\n",
    "accuracy = accuracy_score(y_test, preds)\n",
    "print(\"Accuracy: %f\" % accuracy)"
   ]
  },
  {
   "cell_type": "markdown",
   "id": "7c39e7da",
   "metadata": {},
   "source": [
    "## LogisticRegression"
   ]
  },
  {
   "cell_type": "code",
   "execution_count": 12,
   "id": "7a6f5f4c",
   "metadata": {},
   "outputs": [
    {
     "name": "stdout",
     "output_type": "stream",
     "text": [
      "accuracy: 0.833984\n"
     ]
    }
   ],
   "source": [
    "from sklearn.linear_model import LogisticRegression\n",
    "from sklearn.model_selection import RandomizedSearchCV, KFold\n",
    "from scipy.stats import uniform\n",
    "from sklearn.metrics import accuracy_score\n",
    "\n",
    "X = cleaned_df.drop(['Target'], axis=1)\n",
    "y = cleaned_df['Target']\n",
    "\n",
    "# Split the data into training and testing sets\n",
    "X_train, X_test, y_train, y_test = train_test_split(X, y, test_size=0.2, random_state=123)\n",
    "\n",
    "# create the models\n",
    "logreg = LogisticRegression(max_iter=1000, class_weight='balanced')\n",
    "\n",
    "# Fit the data to the model\n",
    "logreg.fit(X_train, y_train)\n",
    "preds = logreg.predict(X_test)\n",
    "accuracy = accuracy_score(y_test, preds)\n",
    "print(\"accuracy: %f\" % (accuracy))"
   ]
  },
  {
   "cell_type": "markdown",
   "id": "772ce05c",
   "metadata": {},
   "source": [
    "### LogisticRegression on a large dataset"
   ]
  },
  {
   "cell_type": "code",
   "execution_count": null,
   "id": "7a7e7549",
   "metadata": {},
   "outputs": [],
   "source": [
    "from sklearn.linear_model import LogisticRegression\n",
    "from sklearn.model_selection import RandomizedSearchCV, KFold\n",
    "from scipy.stats import uniform\n",
    "from sklearn.metrics import accuracy_score\n",
    "\n",
    "X = cleaned_df.drop(['Target'], axis=1)\n",
    "y = cleaned_df['Target']\n",
    "\n",
    "# Split the data into training and testing sets\n",
    "X_train, X_test, y_train, y_test = train_test_split(X, y, test_size=0.2, random_state=123)\n",
    "\n",
    "# Define the number of folds for cross-validation\n",
    "kf = KFold(n_splits=5, shuffle=True, random_state=42)\n",
    "\n",
    "# create the models\n",
    "logreg = LogisticRegression(max_iter=1000, class_weight='balanced')\n",
    "\n",
    "# Create the parameter space\n",
    "params = {\n",
    "    'penalty': ['l1', 'l2'],\n",
    "    'C': uniform(loc=0, scale=4),\n",
    "    'solver': ['liblinear', 'saga']\n",
    "}\n",
    "\n",
    "# Instantiate the RandomizedSearchCV object\n",
    "logreg_cv = RandomizedSearchCV(logreg, params, cv=kf, scoring='accuracy', n_iter=5, random_state=42)\n",
    "\n",
    "# Fit the data to the model\n",
    "logreg_cv.fit(X_train, y_train)\n",
    "\n",
    "# Get the best parameters\n",
    "best_params = logreg_cv.best_params_\n",
    "print(\"Best Parameters:\", best_params)\n",
    "\n",
    "# Use the best model to make predictions\n",
    "best_logreg = logreg_cv.best_estimator_\n",
    "preds = best_logreg.predict(X_test)\n",
    "\n",
    "# Evaluate the accuracy\n",
    "accuracy = accuracy_score(y_test, preds)\n",
    "print(\"Accuracy: %f\" % accuracy)"
   ]
  },
  {
   "cell_type": "code",
   "execution_count": 14,
   "id": "b76f1136",
   "metadata": {},
   "outputs": [
    {
     "name": "stderr",
     "output_type": "stream",
     "text": [
      "C:\\Users\\HP\\anaconda3\\lib\\site-packages\\sklearn\\utils\\deprecation.py:87: FutureWarning: Function plot_confusion_matrix is deprecated; Function `plot_confusion_matrix` is deprecated in 1.0 and will be removed in 1.2. Use one of the class methods: ConfusionMatrixDisplay.from_predictions or ConfusionMatrixDisplay.from_estimator.\n",
      "  warnings.warn(msg, category=FutureWarning)\n"
     ]
    },
    {
     "data": {
      "text/plain": [
       "<sklearn.metrics._plot.confusion_matrix.ConfusionMatrixDisplay at 0x22903467e80>"
      ]
     },
     "execution_count": 14,
     "metadata": {},
     "output_type": "execute_result"
    },
    {
     "data": {
      "image/png": "[encoded data removed]",
      "text/plain": [
       "<Figure size 432x288 with 2 Axes>"
      ]
     },
     "metadata": {
      "needs_background": "light"
     },
     "output_type": "display_data"
    }
   ],
   "source": [
    "from sklearn.metrics import plot_confusion_matrix\n",
    "\n",
    "# Get confusion matrix for Gradient Boosting Classifier\n",
    "plot_confusion_matrix(logreg,X_test, y_test,normalize='true')"
   ]
  },
  {
   "cell_type": "code",
   "execution_count": 16,
   "id": "b722cc8a",
   "metadata": {},
   "outputs": [
    {
     "name": "stdout",
     "output_type": "stream",
     "text": [
      "              precision    recall  f1-score   support\n",
      "\n",
      "         0.0       0.97      0.82      0.89    245093\n",
      "         1.0       0.53      0.90      0.67     56474\n",
      "\n",
      "    accuracy                           0.83    301567\n",
      "   macro avg       0.75      0.86      0.78    301567\n",
      "weighted avg       0.89      0.83      0.85    301567\n",
      "\n"
     ]
    }
   ],
   "source": [
    "print(classification_report(y_test, logreg.predict(X_test)))"
   ]
  },
  {
   "cell_type": "code",
   "execution_count": 18,
   "id": "f5f6391a",
   "metadata": {},
   "outputs": [
    {
     "name": "stderr",
     "output_type": "stream",
     "text": [
      "C:\\Users\\HP\\AppData\\Local\\Temp\\ipykernel_12948\\2102191889.py:2: UserWarning: Pandas doesn't allow columns to be created via a new attribute name - see https://pandas.pydata.org/pandas-docs/stable/indexing.html#attribute-access\n",
      "  test.Target = logreg.predict(processed_test)\n"
     ]
    }
   ],
   "source": [
    "# Get the predicted result for the test Data\n",
    "test.Target = logreg.predict(processed_test)"
   ]
  },
  {
   "cell_type": "code",
   "execution_count": 19,
   "id": "115caf52",
   "metadata": {},
   "outputs": [
    {
     "data": {
      "text/html": [
       "<div>\n",
       "<style scoped>\n",
       "    .dataframe tbody tr th:only-of-type {\n",
       "        vertical-align: middle;\n",
       "    }\n",
       "\n",
       "    .dataframe tbody tr th {\n",
       "        vertical-align: top;\n",
       "    }\n",
       "\n",
       "    .dataframe thead th {\n",
       "        text-align: right;\n",
       "    }\n",
       "</style>\n",
       "<table border=\"1\" class=\"dataframe\">\n",
       "  <thead>\n",
       "    <tr style=\"text-align: right;\">\n",
       "      <th></th>\n",
       "      <th>ID</th>\n",
       "      <th>Target</th>\n",
       "    </tr>\n",
       "  </thead>\n",
       "  <tbody>\n",
       "    <tr>\n",
       "      <th>0</th>\n",
       "      <td>ID_LZ8K373W7EWV</td>\n",
       "      <td>0</td>\n",
       "    </tr>\n",
       "    <tr>\n",
       "      <th>1</th>\n",
       "      <td>ID_04KNWHGV5783</td>\n",
       "      <td>0</td>\n",
       "    </tr>\n",
       "    <tr>\n",
       "      <th>2</th>\n",
       "      <td>ID_CXS07G6VLB2U</td>\n",
       "      <td>0</td>\n",
       "    </tr>\n",
       "    <tr>\n",
       "      <th>3</th>\n",
       "      <td>ID_N3NFJJVHS25K</td>\n",
       "      <td>0</td>\n",
       "    </tr>\n",
       "    <tr>\n",
       "      <th>4</th>\n",
       "      <td>ID_R36J4ROT93E9</td>\n",
       "      <td>0</td>\n",
       "    </tr>\n",
       "  </tbody>\n",
       "</table>\n",
       "</div>"
      ],
      "text/plain": [
       "                ID  Target\n",
       "0  ID_LZ8K373W7EWV       0\n",
       "1  ID_04KNWHGV5783       0\n",
       "2  ID_CXS07G6VLB2U       0\n",
       "3  ID_N3NFJJVHS25K       0\n",
       "4  ID_R36J4ROT93E9       0"
      ]
     },
     "execution_count": 19,
     "metadata": {},
     "output_type": "execute_result"
    }
   ],
   "source": [
    "ss.head()"
   ]
  },
  {
   "cell_type": "code",
   "execution_count": 20,
   "id": "109b81c5",
   "metadata": {},
   "outputs": [],
   "source": [
    "# Create submission DataFrame\n",
    "submission = pd.DataFrame({\"ID\": test[\"ID\"],\n",
    "                           \"Target\": test.Target})"
   ]
  },
  {
   "cell_type": "code",
   "execution_count": 21,
   "id": "4d295167",
   "metadata": {},
   "outputs": [
    {
     "data": {
      "text/html": [
       "<div>\n",
       "<style scoped>\n",
       "    .dataframe tbody tr th:only-of-type {\n",
       "        vertical-align: middle;\n",
       "    }\n",
       "\n",
       "    .dataframe tbody tr th {\n",
       "        vertical-align: top;\n",
       "    }\n",
       "\n",
       "    .dataframe thead th {\n",
       "        text-align: right;\n",
       "    }\n",
       "</style>\n",
       "<table border=\"1\" class=\"dataframe\">\n",
       "  <thead>\n",
       "    <tr style=\"text-align: right;\">\n",
       "      <th></th>\n",
       "      <th>ID</th>\n",
       "      <th>Target</th>\n",
       "    </tr>\n",
       "  </thead>\n",
       "  <tbody>\n",
       "    <tr>\n",
       "      <th>0</th>\n",
       "      <td>ID_LZ8K373W7EWV</td>\n",
       "      <td>0.0</td>\n",
       "    </tr>\n",
       "    <tr>\n",
       "      <th>1</th>\n",
       "      <td>ID_04KNWHGV5783</td>\n",
       "      <td>0.0</td>\n",
       "    </tr>\n",
       "    <tr>\n",
       "      <th>2</th>\n",
       "      <td>ID_CXS07G6VLB2U</td>\n",
       "      <td>0.0</td>\n",
       "    </tr>\n",
       "    <tr>\n",
       "      <th>3</th>\n",
       "      <td>ID_N3NFJJVHS25K</td>\n",
       "      <td>0.0</td>\n",
       "    </tr>\n",
       "    <tr>\n",
       "      <th>4</th>\n",
       "      <td>ID_R36J4ROT93E9</td>\n",
       "      <td>1.0</td>\n",
       "    </tr>\n",
       "  </tbody>\n",
       "</table>\n",
       "</div>"
      ],
      "text/plain": [
       "                ID  Target\n",
       "0  ID_LZ8K373W7EWV     0.0\n",
       "1  ID_04KNWHGV5783     0.0\n",
       "2  ID_CXS07G6VLB2U     0.0\n",
       "3  ID_N3NFJJVHS25K     0.0\n",
       "4  ID_R36J4ROT93E9     1.0"
      ]
     },
     "execution_count": 21,
     "metadata": {},
     "output_type": "execute_result"
    }
   ],
   "source": [
    "submission.head()"
   ]
  },
  {
   "cell_type": "code",
   "execution_count": 23,
   "id": "b6d1e4c4",
   "metadata": {},
   "outputs": [],
   "source": [
    "submission.to_csv('submission2.csv', index=False)"
   ]
  }
 ],
 "metadata": {
  "kernelspec": {
   "display_name": "Python 3 (ipykernel)",
   "language": "python",
   "name": "python3"
  },
  "language_info": {
   "codemirror_mode": {
    "name": "ipython",
    "version": 3
   },
   "file_extension": ".py",
   "mimetype": "text/x-python",
   "name": "python",
   "nbconvert_exporter": "python",
   "pygments_lexer": "ipython3",
   "version": "3.9.12"
  },
  "latex_envs": {
   "LaTeX_envs_menu_present": true,
   "autoclose": false,
   "autocomplete": true,
   "bibliofile": "biblio.bib",
   "cite_by": "apalike",
   "current_citInitial": 1,
   "eqLabelWithNumbers": true,
   "eqNumInitial": 1,
   "hotkeys": {
    "equation": "Ctrl-E",
    "itemize": "Ctrl-I"
   },
   "labels_anchors": false,
   "latex_user_defs": false,
   "report_style_numbering": false,
   "user_envs_cfg": false
  },
  "toc": {
   "base_numbering": 1,
   "nav_menu": {},
   "number_sections": true,
   "sideBar": true,
   "skip_h1_title": false,
   "title_cell": "Table of Contents",
   "title_sidebar": "Contents",
   "toc_cell": false,
   "toc_position": {},
   "toc_section_display": true,
   "toc_window_display": false
  }
 },
 "nbformat": 4,
 "nbformat_minor": 5
}
